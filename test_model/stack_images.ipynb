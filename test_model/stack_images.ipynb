{
 "cells": [
  {
   "cell_type": "code",
   "execution_count": null,
   "metadata": {},
   "outputs": [],
   "source": [
    "# np.concatenate((im1, im2), axis=2)"
   ]
  },
  {
   "cell_type": "code",
   "execution_count": 3,
   "metadata": {},
   "outputs": [
    {
     "data": {
      "text/plain": [
       "True"
      ]
     },
     "execution_count": 3,
     "metadata": {},
     "output_type": "execute_result"
    }
   ],
   "source": [
    "import numpy as np\n",
    "import cv2, os\n",
    "\n",
    "# Paths to your binary images\n",
    "image_paths = os.listdir('/home/thekhoi/futme/RTD-ueh/dinov2_ueh/test_model/output')\n",
    "image_paths = [f\"/home/thekhoi/futme/RTD-ueh/dinov2_ueh/test_model/output/{name}\" for name in image_paths]\n",
    "\n",
    "# Load images and convert each to grayscale (binary images could be already in this format)\n",
    "images = [cv2.imread(path, cv2.IMREAD_GRAYSCALE) for path in image_paths]\n",
    "\n",
    "# Assuming all images have the same dimensions, stack them into a single multi-dimensional array\n",
    "stacked_images = np.stack(images, axis=-1)\n",
    "\n",
    "# Visualization or conversion to a 3-channel image for saving\n",
    "# Mapping binary images to RGB channels, two images per channel by averaging them\n",
    "def convert_to_rgb(stacked_images):\n",
    "    # Here we simply average pairs of images for demonstration. This will result in a 3-channel image.\n",
    "    # Depending on your actual use case, you might want to visualize or combine them differently.\n",
    "    red_channel = np.mean(stacked_images[..., :2], axis=-1)\n",
    "    green_channel = np.mean(stacked_images[..., 2:4], axis=-1)\n",
    "    blue_channel = np.mean(stacked_images[..., 4:], axis=-1)\n",
    "\n",
    "    # Stack to form an RGB image (keeping in mind OpenCV uses BGR format)\n",
    "    rgb_image = np.stack([blue_channel, green_channel, red_channel], axis=-1).astype(np.uint8)\n",
    "\n",
    "    return rgb_image\n",
    "\n",
    "# Convert the stacked images to an RGB format for visualization\n",
    "rgb_image = convert_to_rgb(stacked_images)\n",
    "\n",
    "# Save the resulting image\n",
    "cv2.imwrite('stacked_image.png', rgb_image)"
   ]
  }
 ],
 "metadata": {
  "kernelspec": {
   "display_name": "env_image",
   "language": "python",
   "name": "python3"
  },
  "language_info": {
   "codemirror_mode": {
    "name": "ipython",
    "version": 3
   },
   "file_extension": ".py",
   "mimetype": "text/x-python",
   "name": "python",
   "nbconvert_exporter": "python",
   "pygments_lexer": "ipython3",
   "version": "3.10.12"
  }
 },
 "nbformat": 4,
 "nbformat_minor": 2
}
